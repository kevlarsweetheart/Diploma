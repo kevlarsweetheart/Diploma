{
 "cells": [
  {
   "cell_type": "code",
   "execution_count": null,
   "metadata": {
    "collapsed": true
   },
   "outputs": [],
   "source": [
    "import jsonlines"
   ]
  },
  {
   "cell_type": "code",
   "execution_count": null,
   "metadata": {
    "collapsed": true
   },
   "outputs": [],
   "source": [
    "def get_friends(_id):\n",
    "    with jsonlines.open('sampled_vk_dataset_10000.jl') as people:\n",
    "        for obj in people:\n",
    "            if obj.get('id') == _id:\n",
    "                return obj.get('friends')[:]\n",
    "    return -1"
   ]
  },
  {
   "cell_type": "markdown",
   "metadata": {},
   "source": [
    "# SOME GARBAGE (TRYING THINGS)"
   ]
  },
  {
   "cell_type": "code",
   "execution_count": null,
   "metadata": {
    "collapsed": false
   },
   "outputs": [],
   "source": [
    "from sklearn import datasets\n",
    "from sklearn.semi_supervised import LabelPropagation\n",
    "import numpy as np\n",
    "label_prop_model = LabelPropagation()\n",
    "iris = datasets.load_iris()\n",
    "rng = np.random.RandomState(42)\n",
    "random_unlabeled_points = rng.rand(len(iris.target)) < 0.3\n",
    "labels = np.copy(iris.target)\n",
    "labels[random_unlabeled_points] = -1\n",
    "label_prop_model.fit(iris.data, labels)"
   ]
  },
  {
   "cell_type": "code",
   "execution_count": null,
   "metadata": {
    "collapsed": false
   },
   "outputs": [],
   "source": [
    "import os\n",
    "import jsonlines\n",
    "path = './seeds_graphs_ids'\n",
    "files = os.listdir(path)\n",
    "seeds = []\n",
    "for _file in files:\n",
    "    seeds.append(int(_file[9:-4]))"
   ]
  },
  {
   "cell_type": "code",
   "execution_count": null,
   "metadata": {
    "collapsed": false
   },
   "outputs": [],
   "source": [
    "male = 0\n",
    "female = 0\n",
    "single = 0\n",
    "married = 0\n",
    "higher = 0\n",
    "secondary = 0\n",
    "none = 0\n",
    "with jsonlines.open('sampled_vk_dataset_10000.jl') as profiles:\n",
    "    for item in profiles:\n",
    "        if item.get('id') in seeds:\n",
    "            if item.get('gender') == 'male':\n",
    "                male += 1\n",
    "            elif item.get('gender') == 'female':\n",
    "                female += 1\n",
    "            if item.get('status') == 'single':\n",
    "                single += 1\n",
    "            elif item.get('status') == 'married':\n",
    "                married += 1\n",
    "            if item.get('education') == 'high':\n",
    "                higher += 1\n",
    "            elif item.get('education') == 'middle':\n",
    "                secondary += 1\n",
    "            else:\n",
    "                none += 1"
   ]
  },
  {
   "cell_type": "code",
   "execution_count": null,
   "metadata": {
    "collapsed": false
   },
   "outputs": [],
   "source": [
    "print('male', male)\n",
    "print('female', female)\n",
    "print('single', single)\n",
    "print('married', married)\n",
    "print('higher', higher)\n",
    "print('secondary', secondary)\n",
    "print('none', none)"
   ]
  },
  {
   "cell_type": "markdown",
   "metadata": {},
   "source": [
    "# END OF GARBAGE"
   ]
  },
  {
   "cell_type": "markdown",
   "metadata": {},
   "source": [
    "# Подграфы"
   ]
  },
  {
   "cell_type": "code",
   "execution_count": null,
   "metadata": {
    "collapsed": true
   },
   "outputs": [],
   "source": [
    "import jsonlines\n",
    "import os, sys \n",
    "from tqdm import tqdm\n",
    "import numpy as np\n",
    "import re"
   ]
  },
  {
   "cell_type": "code",
   "execution_count": null,
   "metadata": {
    "collapsed": true
   },
   "outputs": [],
   "source": [
    "seeds_path = \"./distribs3seed\"\n",
    "seeds = sorted(os.listdir(seeds_path))"
   ]
  },
  {
   "cell_type": "code",
   "execution_count": null,
   "metadata": {
    "collapsed": true
   },
   "outputs": [],
   "source": [
    "path = \"./distribs4\"\n",
    "files = sorted(os.listdir(path))"
   ]
  },
  {
   "cell_type": "code",
   "execution_count": null,
   "metadata": {
    "collapsed": true
   },
   "outputs": [],
   "source": [
    "max_len = 0\n",
    "for _file in files:\n",
    "    with open(path + '/' + _file) as distribution:\n",
    "        line = distribution.readline()\n",
    "        vec = re.findall(r'(\\d+)', line)\n",
    "        max_len = max(max_len, len(vec))"
   ]
  },
  {
   "cell_type": "code",
   "execution_count": null,
   "metadata": {
    "collapsed": false
   },
   "outputs": [],
   "source": [
    "x = []\n",
    "for _file in ordered_seeds:\n",
    "    with open(path + '/' + str(_file)) as distribution:\n",
    "        line = distribution.readline()\n",
    "        vec = re.findall(r'(\\d+)', line)\n",
    "        while len(vec) < 2:\n",
    "            vec.append('0')\n",
    "        vec = list(map(int,vec))\n",
    "        x.append(vec)"
   ]
  },
  {
   "cell_type": "code",
   "execution_count": null,
   "metadata": {
    "collapsed": false
   },
   "outputs": [],
   "source": [
    "for i in range(len(x)):\n",
    "    x[i] = list(map(int, x[i]))"
   ]
  },
  {
   "cell_type": "code",
   "execution_count": null,
   "metadata": {
    "collapsed": true
   },
   "outputs": [],
   "source": [
    "seeds = list(map(int, files))"
   ]
  },
  {
   "cell_type": "code",
   "execution_count": null,
   "metadata": {
    "collapsed": false
   },
   "outputs": [],
   "source": [
    "y_gender_ = [' '] * len(seeds)\n",
    "y_age_ = [0] * len(seeds)\n",
    "y_status_ = [' '] * len(seeds)\n",
    "y_edu_ = [' '] * len(seeds)\n",
    "\n",
    "with jsonlines.open('sampled_vk_dataset_10000.jl') as profiles:\n",
    "    for item in profiles:\n",
    "        if int(item.get('id')) in seeds:\n",
    "            y_gender[seeds.index(item.get('id'))] = item.get('gender')\n",
    "            y_age[seeds.index(item.get('id'))] = int(item.get('age'))\n",
    "            y_status[seeds.index(item.get('id'))] = item.get('status')\n",
    "            y_edu[seeds.index(item.get('id'))] = item.get('education')"
   ]
  },
  {
   "cell_type": "code",
   "execution_count": null,
   "metadata": {
    "collapsed": true
   },
   "outputs": [],
   "source": [
    "for i in range(len(x)):\n",
    "    if sum(x[i]) != 0:\n",
    "        x[i] = np.array(x[i]) / np.linalg.norm(x[i])\n",
    "    else:\n",
    "        x[i] = np.array(x[i])\n",
    "x = np.array(x)"
   ]
  },
  {
   "cell_type": "code",
   "execution_count": null,
   "metadata": {
    "collapsed": true
   },
   "outputs": [],
   "source": [
    "_x = []\n",
    "_y = []\n",
    "colors = []\n",
    "for i in range(len(x)):\n",
    "    _x.append(x[i][0])\n",
    "    _y.append(x[i][1])\n",
    "    if (y_edu[i] == 'high'):\n",
    "        colors.append('green')\n",
    "    elif (y_edu[i] == 'middle'):\n",
    "        colors.append('yellow')\n",
    "    else:\n",
    "        colors.append('red')"
   ]
  },
  {
   "cell_type": "code",
   "execution_count": null,
   "metadata": {
    "collapsed": false
   },
   "outputs": [],
   "source": [
    "from matplotlib import pyplot as plt\n",
    "plt.scatter(_x, _y, color=colors, s=5)\n",
    "plt.savefig('education_log.png', dpi=200)"
   ]
  },
  {
   "cell_type": "code",
   "execution_count": null,
   "metadata": {
    "collapsed": true
   },
   "outputs": [],
   "source": [
    "plt.gcf().clear()"
   ]
  },
  {
   "cell_type": "code",
   "execution_count": null,
   "metadata": {
    "collapsed": true
   },
   "outputs": [],
   "source": [
    "#SVM\n",
    "from sklearn.model_selection import cross_val_score\n",
    "from sklearn import svm"
   ]
  },
  {
   "cell_type": "code",
   "execution_count": null,
   "metadata": {
    "collapsed": false
   },
   "outputs": [],
   "source": [
    "#SVM edu\n",
    "clf = svm.SVC()\n",
    "scores = cross_val_score(clf, x_gender, y_gender, cv=5, scoring='f1_micro')\n",
    "np.average(scores)"
   ]
  },
  {
   "cell_type": "code",
   "execution_count": null,
   "metadata": {
    "collapsed": true
   },
   "outputs": [],
   "source": [
    "#Logistic regression\n",
    "from sklearn import linear_model"
   ]
  },
  {
   "cell_type": "code",
   "execution_count": null,
   "metadata": {
    "collapsed": false
   },
   "outputs": [],
   "source": [
    "#Logistic regression edu\n",
    "_clf = linear_model.LogisticRegression()\n",
    "scores = cross_val_score(_clf, x, y_gender, cv=5, scoring='f1_macro')\n",
    "np.average(scores)"
   ]
  },
  {
   "cell_type": "code",
   "execution_count": null,
   "metadata": {
    "collapsed": true
   },
   "outputs": [],
   "source": [
    "#GaussianNB\n",
    "from sklearn.naive_bayes import GaussianNB"
   ]
  },
  {
   "cell_type": "code",
   "execution_count": null,
   "metadata": {
    "collapsed": false
   },
   "outputs": [],
   "source": [
    "#GaussianNB edu\n",
    "model = GaussianNB()\n",
    "scores = cross_val_score(model, x, y_edu, cv=5, scoring='f1_macro')\n",
    "np.average(scores)"
   ]
  },
  {
   "cell_type": "code",
   "execution_count": null,
   "metadata": {
    "collapsed": true
   },
   "outputs": [],
   "source": [
    "#Decision tree\n",
    "from sklearn import tree"
   ]
  },
  {
   "cell_type": "code",
   "execution_count": null,
   "metadata": {
    "collapsed": false
   },
   "outputs": [],
   "source": [
    "#Decision tree edu\n",
    "clf = tree.DecisionTreeClassifier()\n",
    "scores = cross_val_score(clf, x, y_edu, cv=5, scoring='f1_macro')\n",
    "np.average(scores)"
   ]
  },
  {
   "cell_type": "code",
   "execution_count": null,
   "metadata": {
    "collapsed": true
   },
   "outputs": [],
   "source": [
    "#KNeighbours\n",
    "from sklearn.neighbors import KNeighborsClassifier"
   ]
  },
  {
   "cell_type": "code",
   "execution_count": null,
   "metadata": {
    "collapsed": false
   },
   "outputs": [],
   "source": [
    "#KNeighbours edu\n",
    "neigh = KNeighborsClassifier(n_neighbors=3)\n",
    "scores = cross_val_score(neigh, x, y_edu, cv=5, scoring='f1_macro')\n",
    "np.average(scores)"
   ]
  },
  {
   "cell_type": "code",
   "execution_count": null,
   "metadata": {
    "collapsed": true
   },
   "outputs": [],
   "source": [
    "#XGBoost\n",
    "from xgboost import XGBClassifier\n",
    "from sklearn.model_selection import cross_val_score"
   ]
  },
  {
   "cell_type": "code",
   "execution_count": null,
   "metadata": {
    "collapsed": false
   },
   "outputs": [],
   "source": [
    "y_edu = np.array(y_edu)\n",
    "x = np.array(list(map(np.array, x)))"
   ]
  },
  {
   "cell_type": "code",
   "execution_count": null,
   "metadata": {
    "collapsed": false
   },
   "outputs": [],
   "source": [
    "#XGBoost Gender\n",
    "model = XGBClassifier()\n",
    "scores = cross_val_score(model, x_conc_age, y_age, cv=5, scoring='f1_macro')\n",
    "np.average(scores)"
   ]
  },
  {
   "cell_type": "markdown",
   "metadata": {},
   "source": [
    "# Всякие комбинации"
   ]
  },
  {
   "cell_type": "markdown",
   "metadata": {},
   "source": [
    "# Возраст как классификация"
   ]
  },
  {
   "cell_type": "code",
   "execution_count": null,
   "metadata": {
    "collapsed": true
   },
   "outputs": [],
   "source": [
    "#распределения возрастов друзей\n",
    "path = \"./distribs3\"\n",
    "seeds_age = sorted(os.listdir(path))\n",
    "seeds_age = list(map(int, seeds_age))"
   ]
  },
  {
   "cell_type": "code",
   "execution_count": null,
   "metadata": {
    "collapsed": true
   },
   "outputs": [],
   "source": [
    "#вытаскиваем друзей\n",
    "ordered_seeds = []\n",
    "ordered_friends = []\n",
    "with jsonlines.open('sampled_vk_dataset_10000.jl') as profiles:\n",
    "    for item in profiles:\n",
    "        if int(item.get('id')) in seeds_age:\n",
    "            ordered_seeds.append(int(item.get('id')))\n",
    "            ordered_friends.append(item.get('friends'))"
   ]
  },
  {
   "cell_type": "code",
   "execution_count": null,
   "metadata": {
    "collapsed": true
   },
   "outputs": [],
   "source": [
    "#пространство Y\n",
    "y_age = [0] * len(ordered_seeds)\n",
    "\n",
    "with jsonlines.open('sampled_vk_dataset_10000.jl') as profiles:\n",
    "    for item in profiles:\n",
    "        if int(item.get('id')) in ordered_seeds:\n",
    "            y_age[ordered_seeds.index(int(item.get('id')))] = (int(item.get('age')) + 5 - int(item.get('age')) % 5) // 5"
   ]
  },
  {
   "cell_type": "code",
   "execution_count": null,
   "metadata": {
    "collapsed": false
   },
   "outputs": [],
   "source": [
    "#пространство X\n",
    "x_age = [[0] * 22 for x in range(len(ordered_seeds))]\n",
    "\n",
    "with jsonlines.open('sampled_vk_dataset_10000.jl') as profiles:\n",
    "    for item in profiles:\n",
    "        for i in range(len(ordered_friends)):\n",
    "            if item.get('id') in list(ordered_friends[i]):\n",
    "                if item['age']:\n",
    "                    _class = (int(item.get('age')) + 5 - int(item.get('age')) % 5) // 5\n",
    "                    x_age[i][_class - 1] += 1"
   ]
  },
  {
   "cell_type": "code",
   "execution_count": null,
   "metadata": {
    "collapsed": true
   },
   "outputs": [],
   "source": [
    "#нормировка\n",
    "for i in range(len(x_age)):\n",
    "    if sum(x_age[i]) != 0:\n",
    "        x_age[i] = np.array(x_age[i]) / np.linalg.norm(np.array(x_age[i]), ord=2)\n",
    "        \n",
    "x_age = np.array(x_age)\n",
    "y_age = np.array(y_age)"
   ]
  },
  {
   "cell_type": "code",
   "execution_count": null,
   "metadata": {
    "collapsed": false
   },
   "outputs": [],
   "source": [
    "#сохранение\n",
    "from joblib import dump\n",
    "\n",
    "dump(x_age, \"XAgeClasses\")\n",
    "dump(y_age, \"YAgeClasses\")"
   ]
  },
  {
   "cell_type": "code",
   "execution_count": null,
   "metadata": {
    "collapsed": true
   },
   "outputs": [],
   "source": [
    "#центроиды\n",
    "from sklearn.neighbors import NearestCentroid\n",
    "clf_age = NearestCentroid()\n",
    "clf_age.fit(x_age, y_age)\n",
    "centroids_age = clf_age.centroids_\n",
    "dict_age = dict(zip(clf_age.classes_, centroids_age))"
   ]
  },
  {
   "cell_type": "code",
   "execution_count": null,
   "metadata": {
    "collapsed": false
   },
   "outputs": [],
   "source": [
    "x_full_age = []\n",
    "y_full_age = []\n",
    "for i in range(len(x)):\n",
    "    for j in range(3, 14):\n",
    "        x_full_age.append(np.concatenate((x[i], dict_age[j])))\n",
    "        if y_age[i] == j:\n",
    "            y_full_age.append(1)\n",
    "        else:\n",
    "            y_full_age.append(0)\n",
    "x_full_age = np.array(x_full_age)\n",
    "y_full_age = np.array(y_full_age)"
   ]
  },
  {
   "cell_type": "code",
   "execution_count": null,
   "metadata": {
    "collapsed": true
   },
   "outputs": [],
   "source": [
    "#конкатенация\n",
    "x_conc_age = []\n",
    "for i in range(len(x)):\n",
    "    x_conc_age.append(np.concatenate((x_age[i], x[i])))\n",
    "x_conc_age = np.array(x_conc_age)"
   ]
  },
  {
   "cell_type": "code",
   "execution_count": null,
   "metadata": {
    "collapsed": false
   },
   "outputs": [],
   "source": [
    "#распределения признаков друзей\n",
    "seeds_friends_lst = []\n",
    "seeds_lst = []\n",
    "seeds_path = \"./distribs3\"\n",
    "seeds = sorted(os.listdir(seeds_path))\n",
    "seeds = list(map(int, seeds))"
   ]
  },
  {
   "cell_type": "code",
   "execution_count": null,
   "metadata": {
    "collapsed": true
   },
   "outputs": [],
   "source": [
    "true_seeds = []\n",
    "true_seeds_friends = []\n",
    "with jsonlines.open('sampled_vk_dataset_10000.jl') as profiles:\n",
    "    for item in profiles:\n",
    "        if int(item.get('id')) in seeds:\n",
    "            true_seeds.append(int(item.get('id')))\n",
    "            true_seeds_friends.append(item.get('friends'))\n",
    "seeds_lst = true_seeds[:]\n",
    "seeds_friends_lst = true_seeds_friends[:]"
   ]
  },
  {
   "cell_type": "code",
   "execution_count": null,
   "metadata": {
    "collapsed": false
   },
   "outputs": [],
   "source": [
    "#пространство Y (признаки сидов)\n",
    "y_gender = [' '] * len(seeds_lst)\n",
    "y_age = [0] * len(seeds_lst)\n",
    "y_status = [' '] * len(seeds_lst)\n",
    "y_edu = [' '] * len(seeds_lst)\n",
    "\n",
    "with jsonlines.open('sampled_vk_dataset_10000.jl') as profiles:\n",
    "    for item in profiles:\n",
    "        if int(item.get('id')) in seeds_lst:\n",
    "            y_gender[seeds_lst.index(int(item.get('id')))] = item.get('gender')\n",
    "            y_age[seeds_lst.index(int(item.get('id')))] = int(item.get('age'))\n",
    "            y_status[seeds_lst.index(int(item.get('id')))] = item.get('status')\n",
    "            y_edu[seeds_lst.index(int(item.get('id')))] = item.get('education')"
   ]
  },
  {
   "cell_type": "code",
   "execution_count": null,
   "metadata": {
    "collapsed": false
   },
   "outputs": [],
   "source": [
    "#пространство X (распределения признаков друзей)\n",
    "x_gender = [[0, 0] for x in range(len(seeds))]\n",
    "x_status = [[0, 0] for x in range(len(seeds))]\n",
    "x_age = [[0] * 110 for x in range(len(seeds))]\n",
    "x_edu = [[0, 0, 0] for x in range(len(seeds))]\n",
    "\n",
    "with jsonlines.open('sampled_vk_dataset_10000.jl') as profiles:\n",
    "    for item in profiles:\n",
    "        for i in range(len(seeds_friends_lst)):\n",
    "            if item.get('id') in list(seeds_friends_lst[i]):\n",
    "                if item.get('gender') == 'male':\n",
    "                    x_gender[i][0] += 1\n",
    "                elif item.get('gender') == 'female':\n",
    "                    x_gender[i][1] += 1\n",
    "                if item.get('status') == 'single':\n",
    "                    x_status[i][0] += 1\n",
    "                elif item.get('status') == 'married':\n",
    "                    x_status[i][1] += 1\n",
    "                if item['age']:\n",
    "                    x_age[i][int(item.get('age'))] += 1\n",
    "                if item.get('education') == 'high':\n",
    "                    x_edu[i][0] += 1\n",
    "                elif item.get('education') == 'middle':\n",
    "                    x_edu[i][1] += 1\n",
    "                else:\n",
    "                    x_edu[i][2] += 1"
   ]
  },
  {
   "cell_type": "code",
   "execution_count": null,
   "metadata": {
    "collapsed": false,
    "scrolled": true
   },
   "outputs": [],
   "source": [
    "#нормировка\n",
    "for i in range(len(x_age)):\n",
    "    if sum(x_gender[i]) != 0:\n",
    "        x_gender[i] = np.array(x_gender[i]) / np.linalg.norm(np.array(x_gender[i]), ord=2)\n",
    "    if sum(x_status[i]) != 0:\n",
    "        x_status[i] = np.array(x_status[i]) / np.linalg.norm(np.array(x_status[i]), ord=2)\n",
    "    if sum(x_age[i]) != 0:\n",
    "        x_age[i] = np.array(x_age[i]) / np.linalg.norm(np.array(x_age[i]), ord=2)\n",
    "    if sum(x_edu[i]) != 0:\n",
    "        x_edu[i] = np.array(x_edu[i]) / np.linalg.norm(np.array(x_edu[i]), ord=2)\n",
    "        \n",
    "x_gender = np.array(x_gender)\n",
    "x_status = np.array(x_status)\n",
    "x_age = np.array(x_age)"
   ]
  },
  {
   "cell_type": "code",
   "execution_count": null,
   "metadata": {
    "collapsed": false
   },
   "outputs": [],
   "source": [
    "y_gender = np.array(y_gender)\n",
    "y_age = np.array(y_age)\n",
    "y_status = np.array(y_status)"
   ]
  },
  {
   "cell_type": "code",
   "execution_count": null,
   "metadata": {
    "collapsed": true
   },
   "outputs": [],
   "source": [
    "x_edu = np.array(x_edu)\n",
    "y_edu = np.array(y_edu)"
   ]
  },
  {
   "cell_type": "code",
   "execution_count": null,
   "metadata": {
    "collapsed": false
   },
   "outputs": [],
   "source": [
    "from joblib import dump\n",
    "\n",
    "dump(x_gender, \"XGender\")\n",
    "dump(x_status, \"XStatus\")\n",
    "dump(x_edu, \"XEducation\")\n",
    "\n",
    "dump(y_gender, \"YGender\")\n",
    "dump(y_status, \"YStatus\")\n",
    "dump(y_edu, \"YEducation\")\n",
    "\n",
    "dump(x_age, \"XAge\")\n",
    "dump(y_age, \"YAge\")"
   ]
  },
  {
   "cell_type": "code",
   "execution_count": null,
   "metadata": {
    "collapsed": true
   },
   "outputs": [],
   "source": [
    "#центроиды\n",
    "from sklearn.neighbors import NearestCentroid"
   ]
  },
  {
   "cell_type": "code",
   "execution_count": null,
   "metadata": {
    "collapsed": false
   },
   "outputs": [],
   "source": [
    "clf_gender = NearestCentroid()\n",
    "clf_gender.fit(x_gender, y_gender)\n",
    "centroids_gender = clf_gender.centroids_\n",
    "dict_gender = dict(zip(clf_gender.classes_, centroids_gender))\n",
    "\n",
    "clf_status = NearestCentroid()\n",
    "clf_status.fit(x_status, y_status)\n",
    "centroids_status = clf_status.centroids_\n",
    "dict_status = dict(zip(clf_status.classes_, centroids_status))\n",
    "\n",
    "clf_edu = NearestCentroid()\n",
    "clf_edu.fit(x_edu, y_edu)\n",
    "centroids_edu = clf_edu.centroids_\n",
    "dict_edu = dict(zip(clf_edu.classes_, centroids_edu))"
   ]
  },
  {
   "cell_type": "code",
   "execution_count": null,
   "metadata": {
    "collapsed": false
   },
   "outputs": [],
   "source": [
    "x_full_status = []\n",
    "y_full_status = []\n",
    "for i in range(len(x)):\n",
    "    x_full_status.append(np.concatenate((x[i], dict_status['single'])))\n",
    "    x_full_status.append(np.concatenate((x[i], dict_status['married'])))\n",
    "    if y_status[i] == 'single':\n",
    "        y_full_status.append(1)\n",
    "        y_full_status.append(0)\n",
    "    elif y_status[i] == 'married':\n",
    "        y_full_status.append(0)\n",
    "        y_full_status.append(1)"
   ]
  },
  {
   "cell_type": "code",
   "execution_count": null,
   "metadata": {
    "collapsed": false
   },
   "outputs": [],
   "source": [
    "for i in range(len(x_cont_age)):\n",
    "    if sum(x_cont_age[i]) != 0:\n",
    "        x_cont_age[i] = np.array(x_cont_age[i]) / np.linalg.norm(np.array(x_cont_age[i]), ord=2)"
   ]
  },
  {
   "cell_type": "code",
   "execution_count": null,
   "metadata": {
    "collapsed": true
   },
   "outputs": [],
   "source": [
    "x_cont_age = []\n",
    "for i in range(len(x)):\n",
    "    x_cont_age.append(np.concatenate((x_age[i], x[i])))"
   ]
  },
  {
   "cell_type": "markdown",
   "metadata": {},
   "source": [
    "# Label Propagation"
   ]
  },
  {
   "cell_type": "code",
   "execution_count": null,
   "metadata": {
    "collapsed": true
   },
   "outputs": [],
   "source": [
    "from sklearn.semi_supervised import LabelPropagation\n",
    "from sklearn.model_selection import cross_val_score"
   ]
  },
  {
   "cell_type": "code",
   "execution_count": null,
   "metadata": {
    "collapsed": false
   },
   "outputs": [],
   "source": [
    "label_prop_model = LabelPropagation(n_neighbors=7, max_iter=1)\n",
    "scores = cross_val_score(label_prop_model, true_x_gender, true_y_gender, cv=5, scoring='f1_micro')\n",
    "np.average(scores)"
   ]
  },
  {
   "cell_type": "code",
   "execution_count": null,
   "metadata": {
    "collapsed": true
   },
   "outputs": [],
   "source": [
    "#SVM\n",
    "from sklearn.model_selection import cross_val_score\n",
    "from sklearn import svm"
   ]
  },
  {
   "cell_type": "code",
   "execution_count": null,
   "metadata": {
    "collapsed": false
   },
   "outputs": [],
   "source": [
    "x_gender"
   ]
  },
  {
   "cell_type": "code",
   "execution_count": null,
   "metadata": {
    "collapsed": false
   },
   "outputs": [],
   "source": [
    "#SVM gender\n",
    "clf = svm.SVC()\n",
    "scores = cross_val_score(clf, x_conc_age, y_age, cv=5, scoring='f1_macro')\n",
    "np.average(scores)"
   ]
  },
  {
   "cell_type": "code",
   "execution_count": null,
   "metadata": {
    "collapsed": false
   },
   "outputs": [],
   "source": [
    "scores = cross_val_score(clf, true_x_gender, true_y_gender, cv=5, scoring='f1_macro')\n",
    "np.average(scores)"
   ]
  },
  {
   "cell_type": "code",
   "execution_count": null,
   "metadata": {
    "collapsed": false,
    "scrolled": true
   },
   "outputs": [],
   "source": [
    "#SVM status\n",
    "clf = svm.SVC()\n",
    "scores = cross_val_score(clf, x_status, y_status, cv=5, scoring='f1_micro')\n",
    "np.average(scores)"
   ]
  },
  {
   "cell_type": "code",
   "execution_count": null,
   "metadata": {
    "collapsed": true
   },
   "outputs": [],
   "source": [
    "from sklearn import linear_model"
   ]
  },
  {
   "cell_type": "code",
   "execution_count": null,
   "metadata": {
    "collapsed": false
   },
   "outputs": [],
   "source": [
    "#Logistic regression gender\n",
    "clf = linear_model.LogisticRegression()\n",
    "scores = cross_val_score(clf, x_conc_age, y_age, cv=5, scoring='f1_macro')\n",
    "np.average(scores)"
   ]
  },
  {
   "cell_type": "code",
   "execution_count": null,
   "metadata": {
    "collapsed": false
   },
   "outputs": [],
   "source": [
    "scores = cross_val_score(clf, x_gender, y_gender, cv=10, scoring='f1_macro')\n",
    "np.average(scores)"
   ]
  },
  {
   "cell_type": "code",
   "execution_count": null,
   "metadata": {
    "collapsed": false
   },
   "outputs": [],
   "source": [
    "#Logistic regression status\n",
    "clf = linear_model.LogisticRegression()\n",
    "scores = cross_val_score(clf, x_status, y_status, cv=5, scoring='f1_micro')\n",
    "np.average(scores)"
   ]
  },
  {
   "cell_type": "code",
   "execution_count": null,
   "metadata": {
    "collapsed": true
   },
   "outputs": [],
   "source": [
    "#GaussianNB\n",
    "from sklearn.naive_bayes import GaussianNB"
   ]
  },
  {
   "cell_type": "code",
   "execution_count": null,
   "metadata": {
    "collapsed": false
   },
   "outputs": [],
   "source": [
    "#GaussianNB gender\n",
    "clf = GaussianNB()\n",
    "scores = cross_val_score(clf, x_conc_age, y_age, cv=5, scoring='f1_macro')\n",
    "np.average(scores)"
   ]
  },
  {
   "cell_type": "code",
   "execution_count": null,
   "metadata": {
    "collapsed": false
   },
   "outputs": [],
   "source": [
    "#GaussianNB status\n",
    "clf = GaussianNB()\n",
    "scores = cross_val_score(clf, x_status, y_status, cv=5, scoring='f1_micro')\n",
    "np.average(scores)"
   ]
  },
  {
   "cell_type": "code",
   "execution_count": null,
   "metadata": {
    "collapsed": true
   },
   "outputs": [],
   "source": [
    "#Decision tree\n",
    "from sklearn import tree"
   ]
  },
  {
   "cell_type": "code",
   "execution_count": null,
   "metadata": {
    "collapsed": false
   },
   "outputs": [],
   "source": [
    "#Decision tree gender\n",
    "clf = tree.DecisionTreeClassifier()\n",
    "scores = cross_val_score(clf, x_conc_age, y_age, cv=5, scoring='f1_macro')\n",
    "np.average(scores)"
   ]
  },
  {
   "cell_type": "code",
   "execution_count": null,
   "metadata": {
    "collapsed": false
   },
   "outputs": [],
   "source": [
    "#Decision tree status\n",
    "clf = tree.DecisionTreeClassifier()\n",
    "scores = cross_val_score(clf, x_status, y_status, cv=5, scoring='f1_micro')\n",
    "np.average(scores)"
   ]
  },
  {
   "cell_type": "code",
   "execution_count": null,
   "metadata": {
    "collapsed": true
   },
   "outputs": [],
   "source": [
    "#KNeighbours\n",
    "from sklearn.neighbors import KNeighborsClassifier"
   ]
  },
  {
   "cell_type": "code",
   "execution_count": null,
   "metadata": {
    "collapsed": false
   },
   "outputs": [],
   "source": [
    "#KNeighbours gender\n",
    "neigh = KNeighborsClassifier(n_neighbors=3)\n",
    "scores = cross_val_score(neigh, x_conc_age, y_age, cv=5, scoring='f1_macro')\n",
    "np.average(scores)"
   ]
  },
  {
   "cell_type": "code",
   "execution_count": null,
   "metadata": {
    "collapsed": false
   },
   "outputs": [],
   "source": [
    "#KNeighbours status\n",
    "neigh = KNeighborsClassifier(n_neighbors=3)\n",
    "scores = cross_val_score(neigh, x_status, y_status, cv=5, scoring='f1_macro')\n",
    "np.average(scores)"
   ]
  },
  {
   "cell_type": "code",
   "execution_count": null,
   "metadata": {
    "collapsed": false
   },
   "outputs": [],
   "source": [
    "#Linear regression age MAE\n",
    "reg = linear_model.LinearRegression()\n",
    "scores = cross_val_score(reg, x_cont_age, y_age, cv=5, scoring='neg_median_absolute_error')\n",
    "np.average(scores)"
   ]
  },
  {
   "cell_type": "code",
   "execution_count": null,
   "metadata": {
    "collapsed": false
   },
   "outputs": [],
   "source": [
    "#Ridge regression age MAE\n",
    "from sklearn.linear_model import Ridge\n",
    "clf = Ridge(alpha=1.0)\n",
    "scores = cross_val_score(clf, x_cont_age, y_age, cv=5, scoring='neg_median_absolute_error')\n",
    "np.average(scores)"
   ]
  },
  {
   "cell_type": "code",
   "execution_count": null,
   "metadata": {
    "collapsed": false
   },
   "outputs": [],
   "source": [
    "true_y_status = []\n",
    "true_x_status = []\n",
    "for i in range(len(x_status)):\n",
    "    if not x_status[i][0] != x_status[i][0]:\n",
    "        true_y_status.append(y_status[i])\n",
    "        true_x_status.append(x_status[i])\n",
    "true_y_status = np.array(true_y_status)\n",
    "true_x_status = np.array(true_x_status)"
   ]
  },
  {
   "cell_type": "code",
   "execution_count": null,
   "metadata": {
    "collapsed": false
   },
   "outputs": [],
   "source": [
    "true_y_age = []\n",
    "true_x_age = []\n",
    "for i in range(len(x_age)):\n",
    "    if not x_age[i][0] != x_age[i][0]:\n",
    "        true_y_age.append(y_age[i])\n",
    "        true_x_age.append(x_age[i])\n",
    "true_y_age = np.array(true_y_age)\n",
    "true_x_age = np.array(true_x_age)"
   ]
  },
  {
   "cell_type": "code",
   "execution_count": null,
   "metadata": {
    "collapsed": true
   },
   "outputs": [],
   "source": [
    "true_y_gender = []\n",
    "true_x_gender = []\n",
    "for i in range(len(x_gender)):\n",
    "    if not x_gender[i][0] != x_gender[i][0]:\n",
    "        true_y_gender.append(y_gender[i])\n",
    "        true_x_gender.append(x_gender[i])\n",
    "true_y_gender = np.array(true_y_gender)\n",
    "true_x_gender = np.array(true_x_gender)"
   ]
  },
  {
   "cell_type": "markdown",
   "metadata": {},
   "source": [
    "# ОБРАЗОВАНИЕ"
   ]
  },
  {
   "cell_type": "code",
   "execution_count": null,
   "metadata": {
    "collapsed": true
   },
   "outputs": [],
   "source": [
    "seeds_edu = []\n",
    "with jsonlines.open('sampled_vk_dataset_10000.txt.seeds.txt') as seeds:\n",
    "    for seed in seeds:\n",
    "        seeds_edu.append(seed)"
   ]
  },
  {
   "cell_type": "code",
   "execution_count": null,
   "metadata": {
    "collapsed": false
   },
   "outputs": [],
   "source": [
    "seeds_friends_edu = []\n",
    "true_seeds_edu = []\n",
    "with jsonlines.open('sampled_vk_dataset_10000.jl') as profiles:\n",
    "    for item in profiles:\n",
    "        if item.get('id') in seeds_edu:\n",
    "            true_seeds_edu.append(item.get('id'))\n",
    "            seeds_friends_edu.append(item.get('friends'))"
   ]
  },
  {
   "cell_type": "code",
   "execution_count": null,
   "metadata": {
    "collapsed": false
   },
   "outputs": [],
   "source": [
    "#Пространство Y для образования\n",
    "y_edu = [' '] * len(true_seeds_edu)\n",
    "\n",
    "with jsonlines.open('sampled_vk_dataset_10000.jl') as profiles:\n",
    "    for item in profiles:\n",
    "        if item.get('id') in true_seeds_edu:\n",
    "            y_edu[true_seeds_edu.index(item.get('id'))] = item.get('education')"
   ]
  },
  {
   "cell_type": "code",
   "execution_count": null,
   "metadata": {
    "collapsed": false
   },
   "outputs": [],
   "source": [
    "#Пространство X для образования\n",
    "x_edu = [[0, 0, 0] for x in range(len(true_seeds_edu))]\n",
    "\n",
    "with jsonlines.open('sampled_vk_dataset_10000.jl') as profiles:\n",
    "    for item in profiles:\n",
    "        for i in range(len(seeds_friends_edu)):\n",
    "            if item.get('id') in list(seeds_friends_edu[i]):\n",
    "                if item.get('education') == 'high':\n",
    "                    x_edu[i][0] += 1\n",
    "                elif item.get('education') == 'middle':\n",
    "                    x_edu[i][1] += 1\n",
    "                else:\n",
    "                    x_edu[i][2] += 1"
   ]
  },
  {
   "cell_type": "code",
   "execution_count": null,
   "metadata": {
    "collapsed": false
   },
   "outputs": [],
   "source": [
    "#нормировка\n",
    "import numpy as np\n",
    "x_edu = np.array([np.array(vec) / np.linalg.norm(np.array(vec), ord=2) for vec in x_edu])"
   ]
  },
  {
   "cell_type": "code",
   "execution_count": null,
   "metadata": {
    "collapsed": false
   },
   "outputs": [],
   "source": [
    "y_edu = np.array(y_edu)"
   ]
  },
  {
   "cell_type": "code",
   "execution_count": null,
   "metadata": {
    "collapsed": true
   },
   "outputs": [],
   "source": [
    "true_y_edu = []\n",
    "true_x_edu = []\n",
    "for i in range(len(x_edu)):\n",
    "    if not x_edu[i][0] != x_edu[i][0]:\n",
    "        true_y_edu.append(y_edu[i])\n",
    "        true_x_edu.append(x_edu[i])\n",
    "true_y_edu = np.array(true_y_edu)\n",
    "true_x_edu = np.array(true_x_edu)"
   ]
  },
  {
   "cell_type": "code",
   "execution_count": null,
   "metadata": {
    "collapsed": true
   },
   "outputs": [],
   "source": [
    "#SVM образование\n",
    "from sklearn.model_selection import cross_val_score\n",
    "from sklearn import svm"
   ]
  },
  {
   "cell_type": "code",
   "execution_count": null,
   "metadata": {
    "collapsed": false
   },
   "outputs": [],
   "source": [
    "num = 0\n",
    "for i in range(len(true_y_gender)):\n",
    "    if true_y_gender[i] == 'male':\n",
    "        num += 1\n",
    "len(true_y_age)"
   ]
  },
  {
   "cell_type": "code",
   "execution_count": null,
   "metadata": {
    "collapsed": false
   },
   "outputs": [],
   "source": [
    "clf = svm.SVC()\n",
    "scores = cross_val_score(clf, x_edu, y_edu, cv=5, scoring='f1_micro')\n",
    "np.average(scores)"
   ]
  },
  {
   "cell_type": "code",
   "execution_count": null,
   "metadata": {
    "collapsed": true
   },
   "outputs": [],
   "source": [
    "#Logistic regression образование\n",
    "from sklearn import linear_model"
   ]
  },
  {
   "cell_type": "code",
   "execution_count": null,
   "metadata": {
    "collapsed": false
   },
   "outputs": [],
   "source": [
    "clf = linear_model.LogisticRegression()\n",
    "scores = cross_val_score(clf, x_edu, y_edu, cv=5, scoring='f1_micro')\n",
    "np.average(scores)"
   ]
  },
  {
   "cell_type": "code",
   "execution_count": null,
   "metadata": {
    "collapsed": true
   },
   "outputs": [],
   "source": [
    "#GaussianNB образоание\n",
    "from sklearn.naive_bayes import GaussianNB"
   ]
  },
  {
   "cell_type": "code",
   "execution_count": null,
   "metadata": {
    "collapsed": false
   },
   "outputs": [],
   "source": [
    "clf = GaussianNB()\n",
    "scores = cross_val_score(clf, x_edu, y_edu, cv=5, scoring='f1_micro')\n",
    "np.average(scores)"
   ]
  },
  {
   "cell_type": "code",
   "execution_count": null,
   "metadata": {
    "collapsed": true
   },
   "outputs": [],
   "source": [
    "#Decision tree образование\n",
    "from sklearn import tree"
   ]
  },
  {
   "cell_type": "code",
   "execution_count": null,
   "metadata": {
    "collapsed": false
   },
   "outputs": [],
   "source": [
    "clf = tree.DecisionTreeClassifier()\n",
    "scores = cross_val_score(clf, x_edu, y_edu, cv=5, scoring='f1_micro')\n",
    "np.average(scores)"
   ]
  },
  {
   "cell_type": "code",
   "execution_count": null,
   "metadata": {
    "collapsed": true
   },
   "outputs": [],
   "source": [
    "#KNeighbours обрзование\n",
    "from sklearn.neighbors import KNeighborsClassifier"
   ]
  },
  {
   "cell_type": "code",
   "execution_count": null,
   "metadata": {
    "collapsed": false
   },
   "outputs": [],
   "source": [
    "neigh = KNeighborsClassifier(n_neighbors=3)\n",
    "scores = cross_val_score(neigh, x_edu, y_edu, cv=5, scoring='f1_micro')\n",
    "np.average(scores)"
   ]
  },
  {
   "cell_type": "markdown",
   "metadata": {},
   "source": [
    "# XGBoost"
   ]
  },
  {
   "cell_type": "code",
   "execution_count": null,
   "metadata": {
    "collapsed": false
   },
   "outputs": [],
   "source": [
    "from xgboost import XGBClassifier\n",
    "from sklearn.model_selection import cross_val_score"
   ]
  },
  {
   "cell_type": "code",
   "execution_count": null,
   "metadata": {
    "collapsed": true
   },
   "outputs": [],
   "source": [
    "x_edu = np.array(x_edu)\n",
    "y_edu = np.array(y_edu)"
   ]
  },
  {
   "cell_type": "code",
   "execution_count": null,
   "metadata": {
    "collapsed": false
   },
   "outputs": [],
   "source": [
    "model = XGBClassifier()\n",
    "scores = cross_val_score(model, x_edu, y_edu, cv=5, scoring='f1_micro')\n",
    "np.average(scores)"
   ]
  },
  {
   "cell_type": "code",
   "execution_count": null,
   "metadata": {
    "collapsed": false
   },
   "outputs": [],
   "source": [
    "model = XGBClassifier()\n",
    "scores = cross_val_score(model, true_x_status, true_y_status, cv=5, scoring='f1_macro')\n",
    "np.average(scores)"
   ]
  },
  {
   "cell_type": "code",
   "execution_count": null,
   "metadata": {
    "collapsed": false
   },
   "outputs": [],
   "source": [
    "num = 0\n",
    "for i in range(len(true_y_edu)):\n",
    "    if true_y_edu[i] == 'none':\n",
    "        num += 1\n",
    "num"
   ]
  },
  {
   "cell_type": "code",
   "execution_count": null,
   "metadata": {
    "collapsed": true
   },
   "outputs": [],
   "source": [
    "def build_connections(_id):\n",
    "    cur_friends = get_friends(_id)\n",
    "    \n",
    "    if cur_friends == -1:\n",
    "        return -1\n",
    "    \n",
    "    connections = {}\n",
    "    connections[_id] = cur_friends\n",
    "    with jsonlines.open('sampled_vk_dataset_10000.jl') as people:\n",
    "        for obj in people:\n",
    "            if obj.get('id') in cur_friends:\n",
    "                connections[obj.get('id')] = obj.get('friends')\n",
    "    return connections"
   ]
  },
  {
   "cell_type": "code",
   "execution_count": null,
   "metadata": {
    "collapsed": true
   },
   "outputs": [],
   "source": [
    "def get_graph(_id):\n",
    "    connects = build_connections(_id)\n",
    "    \n",
    "    if connects == -1:\n",
    "        return -1\n",
    "    \n",
    "    conn_keys = connects.keys()\n",
    "    graph = set()\n",
    "    for key in conn_keys:\n",
    "        friends_lst = connects[key]\n",
    "        for friend in friends_lst:\n",
    "            graph.add((min(key, friend), max(key, friend), 1))\n",
    "    return graph"
   ]
  },
  {
   "cell_type": "code",
   "execution_count": null,
   "metadata": {
    "collapsed": false
   },
   "outputs": [],
   "source": [
    "def get_renumbered_graph(_id):\n",
    "    cur_valid = 1\n",
    "    renum_ids = {}\n",
    "    graph = get_graph(_id)\n",
    "    \n",
    "    if graph == -1:\n",
    "        return -1\n",
    "    \n",
    "    graph = list(graph)\n",
    "    outfile = './seeds_graphs/graph_vk_' + str(_id) + '.txt' \n",
    "    with open(outfile, 'w') as g:\n",
    "        for edge in graph:\n",
    "            e_lst = list(edge)\n",
    "            if not(e_lst[0] in renum_ids.keys()):\n",
    "                renum_ids[e_lst[0]] = cur_valid\n",
    "                cur_valid += 1\n",
    "            if not(e_lst[1] in renum_ids.keys()):\n",
    "                renum_ids[e_lst[1]] = cur_valid\n",
    "                cur_valid += 1\n",
    "            print(' '.join(map(str, [renum_ids[e_lst[0]], renum_ids[e_lst[1]], 1])), file=g)"
   ]
  },
  {
   "cell_type": "code",
   "execution_count": null,
   "metadata": {
    "collapsed": true
   },
   "outputs": [],
   "source": [
    "from multiprocessing.dummy import Pool as ThreadPool\n",
    "\n",
    "pool = ThreadPool(4)"
   ]
  },
  {
   "cell_type": "code",
   "execution_count": null,
   "metadata": {
    "collapsed": true
   },
   "outputs": [],
   "source": [
    "ids_lst = []\n",
    "with open('sampled_vk_dataset_10000.txt.seeds.txt') as ids:\n",
    "    cur_num = 1\n",
    "    for _id in ids:\n",
    "        if cur_num >= 6451:\n",
    "            ids_lst.append(int(_id))\n",
    "        cur_num += 1"
   ]
  },
  {
   "cell_type": "code",
   "execution_count": null,
   "metadata": {
    "collapsed": false
   },
   "outputs": [],
   "source": [
    "pool.map(get_renumbered_graph, ids_lst)"
   ]
  },
  {
   "cell_type": "markdown",
   "metadata": {},
   "source": [
    "# Label Propagation"
   ]
  },
  {
   "cell_type": "code",
   "execution_count": null,
   "metadata": {
    "collapsed": false
   },
   "outputs": [],
   "source": [
    "import os, sys\n",
    "import re\n",
    "import networkx as nx\n",
    "import jsonlines\n",
    "from tqdm import tqdm\n",
    "from labelprop import LabelProp"
   ]
  },
  {
   "cell_type": "code",
   "execution_count": null,
   "metadata": {
    "collapsed": false
   },
   "outputs": [],
   "source": [
    "path = './boneless/'\n",
    "files = os.listdir(path)"
   ]
  },
  {
   "cell_type": "code",
   "execution_count": null,
   "metadata": {
    "collapsed": true
   },
   "outputs": [],
   "source": [
    "import random\n",
    "random.shuffle(files)\n",
    "files = files[:100]"
   ]
  },
  {
   "cell_type": "code",
   "execution_count": null,
   "metadata": {
    "collapsed": true
   },
   "outputs": [],
   "source": [
    "seeds_lp = [int(item[9:-4]) for item in files]"
   ]
  },
  {
   "cell_type": "code",
   "execution_count": null,
   "metadata": {
    "collapsed": false
   },
   "outputs": [],
   "source": [
    "seeds_props = [0] * len(files)\n",
    "with jsonlines.open('sampled_vk_dataset_10000.jl') as profiles:\n",
    "    for item in profiles:\n",
    "        if item.get('id') in seeds_lp:\n",
    "            if item.get('education') == 'none':\n",
    "                seeds_props[seeds_lp.index(item.get('id'))] = 1\n",
    "            elif item.get('education') == 'middle':\n",
    "                seeds_props[seeds_lp.index(item.get('id'))] = 2\n",
    "            elif item.get('education') == 'high':\n",
    "                seeds_props[seeds_lp.index(item.get('id'))] = 3"
   ]
  },
  {
   "cell_type": "code",
   "execution_count": null,
   "metadata": {
    "collapsed": false
   },
   "outputs": [],
   "source": [
    "seeds_props.count(3)"
   ]
  },
  {
   "cell_type": "code",
   "execution_count": null,
   "metadata": {
    "collapsed": false
   },
   "outputs": [],
   "source": [
    "def lp_graph(path):\n",
    "    G = nx.Graph()\n",
    "    \n",
    "    with open(path) as _graph:\n",
    "        for edge in _graph:\n",
    "            G.add_edge(int(edge.split()[0]), int(edge.split()[1]))\n",
    "        \n",
    "    with jsonlines.open('sampled_vk_dataset_10000.jl') as profiles:\n",
    "        for item in profiles:\n",
    "            if int(item.get('id')) in G.nodes and int(item.get('id')) != int(path[20:-4]):\n",
    "                if item.get('education') == 'none':\n",
    "                    G.nodes[int(item.get('id'))]['edu'] = 1\n",
    "                elif item.get('education') == 'middle':\n",
    "                    G.nodes[int(item.get('id'))]['edu'] = 2\n",
    "                elif item.get('education') == 'high':\n",
    "                    G.nodes[int(item.get('id'))]['edu'] = 3\n",
    "                else:\n",
    "                    G.nodes[int(item.get('id'))]['status'] = 0\n",
    "                    \n",
    "    for node in G.nodes:\n",
    "        if 'edu' not in G.nodes[node].keys():\n",
    "            G.nodes[node]['edu'] = 0\n",
    "            \n",
    "    graph_lp = []\n",
    "    for node in G.nodes:\n",
    "        graph_item = []\n",
    "        graph_item.append(node)\n",
    "        graph_item.append(G.nodes[node]['edu'])\n",
    "        neighs = [[neigh, 1] for neigh in G.neighbors(node)]\n",
    "        graph_item.append(neighs)\n",
    "        graph_lp.append(graph_item)\n",
    "        \n",
    "    lp = LabelProp()\n",
    "    lp.load_data_from_mem(graph_lp)\n",
    "    \n",
    "    ans = lp.run(0.00001, 2, clean_result=True) \n",
    "    \n",
    "    for node in ans:\n",
    "        if node[0] == int(path[20:-4]):\n",
    "            return node[1]"
   ]
  },
  {
   "cell_type": "code",
   "execution_count": null,
   "metadata": {
    "collapsed": false
   },
   "outputs": [],
   "source": [
    "predicted = []\n",
    "for _file in tqdm(files):\n",
    "    predicted.append(lp_graph(path + _file))"
   ]
  },
  {
   "cell_type": "code",
   "execution_count": null,
   "metadata": {
    "collapsed": false
   },
   "outputs": [],
   "source": [
    "from sklearn.metrics import f1_score"
   ]
  },
  {
   "cell_type": "code",
   "execution_count": null,
   "metadata": {
    "collapsed": false
   },
   "outputs": [],
   "source": [
    "f1_score(seeds_props, predicted, average='weighted')"
   ]
  },
  {
   "cell_type": "code",
   "execution_count": null,
   "metadata": {
    "collapsed": false
   },
   "outputs": [],
   "source": [
    "seeds_props.count(2)"
   ]
  },
  {
   "cell_type": "code",
   "execution_count": null,
   "metadata": {
    "collapsed": true
   },
   "outputs": [],
   "source": [
    "G = nx.Graph()"
   ]
  },
  {
   "cell_type": "code",
   "execution_count": null,
   "metadata": {
    "collapsed": false
   },
   "outputs": [],
   "source": [
    "with open(path + files) as _graph:\n",
    "    for edge in _graph:\n",
    "        G.add_edge(int(edge.split()[0]), int(edge.split()[1]))"
   ]
  },
  {
   "cell_type": "code",
   "execution_count": null,
   "metadata": {
    "collapsed": false
   },
   "outputs": [],
   "source": [
    "with jsonlines.open('sampled_vk_dataset_10000.jl') as profiles:\n",
    "    for item in profiles:\n",
    "        if int(item.get('id')) in G.nodes:\n",
    "            if item.get('gender') == 'male':\n",
    "                G.nodes[int(item.get('id'))]['gender'] = 1\n",
    "            elif item.get('gender') == 'female':\n",
    "                G.nodes[int(item.get('id'))]['gender'] = 2\n",
    "            else:\n",
    "                G.nodes[int(item.get('id'))]['gender'] = 0\n",
    "            if item.get('status') == 'single':\n",
    "                G.nodes[int(item.get('id'))]['status'] = 1\n",
    "            elif item.get('status') == 'married':\n",
    "                G.nodes[int(item.get('id'))]['status'] = 2\n",
    "            else:\n",
    "                G.nodes[int(item.get('id'))]['status'] = 0\n",
    "            if item.get('education') == 'none':\n",
    "                G.nodes[int(item.get('id'))]['edu'] = 1\n",
    "            elif item.get('education') == 'middle':\n",
    "                G.nodes[int(item.get('id'))]['edu'] = 2\n",
    "            elif item.get('education') == 'high':\n",
    "                G.nodes[int(item.get('id'))]['edu'] = 3\n",
    "            else:\n",
    "                G.nodes[int(item.get('id'))]['edu'] = 0"
   ]
  },
  {
   "cell_type": "code",
   "execution_count": null,
   "metadata": {
    "collapsed": false
   },
   "outputs": [],
   "source": [
    "for node in tqdm(G.nodes):\n",
    "    if 'gender' not in G.nodes[node].keys():\n",
    "        G.nodes[node]['gender'] = 0\n",
    "    if 'status' not in G.nodes[node].keys():\n",
    "        G.nodes[node]['status'] = 0\n",
    "    if 'edu' not in G.nodes[node].keys():\n",
    "        G.nodes[node]['edu'] = 0"
   ]
  },
  {
   "cell_type": "code",
   "execution_count": null,
   "metadata": {
    "collapsed": false
   },
   "outputs": [],
   "source": [
    "graph_lp = []\n",
    "for node in tqdm(G.nodes):\n",
    "    graph_item = []\n",
    "    graph_item.append(node)\n",
    "    graph_item.append(G.nodes[node]['gender'])\n",
    "    neighs = [[neigh, 1] for neigh in G.neighbors(node)]\n",
    "    graph_item.append(neighs)\n",
    "    graph_lp.append(graph_item)"
   ]
  },
  {
   "cell_type": "code",
   "execution_count": null,
   "metadata": {
    "collapsed": true
   },
   "outputs": [],
   "source": [
    "lp = LabelProp()\n",
    "lp.load_data_from_mem(graph_lp)"
   ]
  },
  {
   "cell_type": "code",
   "execution_count": null,
   "metadata": {
    "collapsed": true
   },
   "outputs": [],
   "source": [
    "ans = lp.run(0.00001, 2, clean_result=True) "
   ]
  },
  {
   "cell_type": "code",
   "execution_count": null,
   "metadata": {
    "collapsed": false
   },
   "outputs": [],
   "source": [
    "ans"
   ]
  },
  {
   "cell_type": "code",
   "execution_count": null,
   "metadata": {
    "collapsed": false
   },
   "outputs": [],
   "source": [
    "path = \"./seeds_graphs_profiles/\"\n",
    "dirs = os.listdir(path)"
   ]
  },
  {
   "cell_type": "code",
   "execution_count": null,
   "metadata": {
    "collapsed": false
   },
   "outputs": [],
   "source": [
    "def pickline(line):\n",
    "    i = 0\n",
    "    with open('sampled_vk_dataset_10000.txt.seeds.txt') as _file:\n",
    "        for item in _file:\n",
    "            if i == line - 1:\n",
    "                return str(item)\n",
    "            i += 1"
   ]
  },
  {
   "cell_type": "code",
   "execution_count": null,
   "metadata": {
    "collapsed": false
   },
   "outputs": [],
   "source": [
    "for _dir in dirs:\n",
    "    if int(_dir[9:-12]) <= 3007:\n",
    "        _id = pickline(int(_dir[9:-12]))\n",
    "        src = './seeds_graphs_profiles/' + _dir\n",
    "        #print(src)\n",
    "        dst = re.sub('\\d+', _id[:-1], _dir)\n",
    "        #print(dst)\n",
    "        dst = './seeds_graphs_profiles/' + dst\n",
    "        #print(dst)\n",
    "        os.rename(src, dst)"
   ]
  },
  {
   "cell_type": "code",
   "execution_count": null,
   "metadata": {
    "collapsed": true
   },
   "outputs": [],
   "source": [
    "dirs = os.listdir(path)"
   ]
  },
  {
   "cell_type": "code",
   "execution_count": null,
   "metadata": {
    "collapsed": false
   },
   "outputs": [],
   "source": [
    "with jsonlines.open('seeds_distributions.jl', mode='w') as outfile:\n",
    "    for _dir in dirs:\n",
    "        with open('./seeds_graphs_profiles/' + _dir + '/undir-3') as distrib:\n",
    "            opcl = []\n",
    "            for _line in distrib:\n",
    "                opcl.append(float(_line.split()[1]))\n",
    "            opcl = (opcl[0], opcl[1])\n",
    "            desc = {'id': int(_dir[9:-12]), '(open, closed)': opcl}\n",
    "            outfile.write(desc)"
   ]
  },
  {
   "cell_type": "code",
   "execution_count": null,
   "metadata": {
    "collapsed": false
   },
   "outputs": [],
   "source": [
    "people = []\n",
    "x = []\n",
    "with jsonlines.open('seeds_distributions.jl') as distribs:\n",
    "    for item in distribs:\n",
    "        people.append(item.get('id'))\n",
    "        x.append(item.get('(open, closed)'))"
   ]
  },
  {
   "cell_type": "code",
   "execution_count": null,
   "metadata": {
    "collapsed": true
   },
   "outputs": [],
   "source": [
    "y_gender = []\n",
    "y_age = []\n",
    "y_education = []\n",
    "y_status = []\n",
    "with jsonlines.open('sampled_vk_dataset_10000.jl') as items:\n",
    "    for item in items:\n",
    "        if item.get('id') in people:\n",
    "            y_gender.append(item.get('gender'))\n",
    "            y_age.append(item.get('age'))\n",
    "            y_education.append(item.get('education'))\n",
    "            y_status.append(item.get('status'))"
   ]
  },
  {
   "cell_type": "code",
   "execution_count": null,
   "metadata": {
    "collapsed": false
   },
   "outputs": [],
   "source": [
    "import numpy as np\n",
    "from sklearn.model_selection import train_test_split\n",
    "from sklearn import linear_model\n",
    "\n",
    "#gender Logistic regression\n",
    "X_train, X_test, y_train, y_test = train_test_split(\n",
    "    x, y_gender, test_size=0.3, random_state=0)\n",
    "\n",
    "clf = linear_model.LogisticRegression().fit(X_train, y_train)\n",
    "clf.score(X_test, y_test)"
   ]
  },
  {
   "cell_type": "code",
   "execution_count": null,
   "metadata": {
    "collapsed": false
   },
   "outputs": [],
   "source": [
    "#education Logistic regression\n",
    "X_train, X_test, y_train, y_test = train_test_split(\n",
    "    x, y_education, test_size=0.3, random_state=0)\n",
    "\n",
    "clf = linear_model.LogisticRegression().fit(X_train, y_train)\n",
    "clf.score(X_test, y_test)"
   ]
  },
  {
   "cell_type": "code",
   "execution_count": null,
   "metadata": {
    "collapsed": false
   },
   "outputs": [],
   "source": [
    "#status Logistic regression\n",
    "X_train, X_test, y_train, y_test = train_test_split(\n",
    "    x, y_status, test_size=0.3, random_state=0)\n",
    "\n",
    "clf = linear_model.LogisticRegression().fit(X_train, y_train)\n",
    "clf.score(X_test, y_test)"
   ]
  },
  {
   "cell_type": "code",
   "execution_count": null,
   "metadata": {
    "collapsed": false
   },
   "outputs": [],
   "source": [
    "#age Logistic regression\n",
    "X_train, X_test, y_train, y_test = train_test_split(\n",
    "    x, y_age, test_size=0.3, random_state=0)\n",
    "\n",
    "clf = linear_model.LogisticRegression().fit(X_train, y_train)\n",
    "clf.score(X_test, y_test)"
   ]
  },
  {
   "cell_type": "code",
   "execution_count": null,
   "metadata": {
    "collapsed": true
   },
   "outputs": [],
   "source": [
    "import numpy as np\n",
    "y_gender = np.array(y_gender)\n",
    "y_age = np.array(y_age)\n",
    "y_education = np.array(y_education)\n",
    "y_status = np.array(y_status)\n",
    "x = np.array(x)"
   ]
  },
  {
   "cell_type": "code",
   "execution_count": null,
   "metadata": {
    "collapsed": false
   },
   "outputs": [],
   "source": [
    "from sklearn.svm import SVC\n",
    "import numpy as np\n",
    "from sklearn.model_selection import train_test_split\n",
    "X_train, X_test, y_train, y_test = train_test_split(\n",
    "    x, y_gender, test_size=0.3, random_state=42)"
   ]
  },
  {
   "cell_type": "code",
   "execution_count": null,
   "metadata": {
    "collapsed": false
   },
   "outputs": [],
   "source": [
    "#gender SVM\n",
    "clf = SVC()\n",
    "clf.fit(X_train, y_train)\n",
    "clf.score(X_test, y_test)"
   ]
  },
  {
   "cell_type": "code",
   "execution_count": null,
   "metadata": {
    "collapsed": true
   },
   "outputs": [],
   "source": [
    "#education SVM\n",
    "clf = SVC()\n",
    "clf.fit(X_train, y_train)\n",
    "clf.score(X_test, y_test)"
   ]
  },
  {
   "cell_type": "code",
   "execution_count": null,
   "metadata": {
    "collapsed": false
   },
   "outputs": [],
   "source": [
    "#status SVM\n",
    "clf = SVC()\n",
    "clf.fit(X_train, y_train)\n",
    "clf.score(X_test, y_test)"
   ]
  },
  {
   "cell_type": "code",
   "execution_count": null,
   "metadata": {
    "collapsed": false
   },
   "outputs": [],
   "source": [
    "#age SVM\n",
    "clf = SVC()\n",
    "clf.fit(X_train, y_train)\n",
    "clf.score(X_test, y_test)"
   ]
  },
  {
   "cell_type": "code",
   "execution_count": null,
   "metadata": {
    "collapsed": false
   },
   "outputs": [],
   "source": [
    "#gender GaussianNB\n",
    "from sklearn.naive_bayes import GaussianNB\n",
    "clf = GaussianNB()\n",
    "clf.fit(X_train, y_train)\n",
    "clf.score(X_test, y_test)"
   ]
  },
  {
   "cell_type": "code",
   "execution_count": null,
   "metadata": {
    "collapsed": false
   },
   "outputs": [],
   "source": [
    "#education GaussianNB\n",
    "clf = GaussianNB()\n",
    "clf.fit(X_train, y_train)\n",
    "clf.score(X_test, y_test)"
   ]
  },
  {
   "cell_type": "code",
   "execution_count": null,
   "metadata": {
    "collapsed": false
   },
   "outputs": [],
   "source": [
    "#status GaussianNB\n",
    "clf = GaussianNB()\n",
    "clf.fit(X_train, y_train)\n",
    "clf.score(X_test, y_test)"
   ]
  },
  {
   "cell_type": "code",
   "execution_count": null,
   "metadata": {
    "collapsed": false
   },
   "outputs": [],
   "source": [
    "#age GaussianNB\n",
    "clf = GaussianNB()\n",
    "clf.fit(X_train, y_train)\n",
    "clf.score(X_test, y_test)"
   ]
  },
  {
   "cell_type": "code",
   "execution_count": null,
   "metadata": {
    "collapsed": false,
    "scrolled": true
   },
   "outputs": [],
   "source": [
    "from sklearn.metrics import precision_score\n",
    "from sklearn.ensemble import RandomForestClassifier\n",
    "\n",
    "clf = RandomForestClassifier(criterion=\"entropy\", random_state=1)\n",
    "clf.fit(X_train, y_train)\n",
    "print(clf.score(X_train, y_train))\n",
    "precision_score(clf.predict(X_train), y_train, average='macro')"
   ]
  },
  {
   "cell_type": "markdown",
   "metadata": {},
   "source": [
    "# Trying stuff... again (garbage)"
   ]
  },
  {
   "cell_type": "code",
   "execution_count": null,
   "metadata": {
    "collapsed": false
   },
   "outputs": [],
   "source": [
    "import jsonlines\n",
    "\n",
    "with jsonlines.open(\"tru_bois.jl\", mode=\"w\") as out:\n",
    "    with jsonlines.open(\"sampled_vk_dataset_10000.jl\", mode=\"r\") as info:\n",
    "        for i in info:\n",
    "            if i[\"id\"] not in people:\n",
    "                continue\n",
    "                \n",
    "            accepted_friends = []\n",
    "            for f in i[\"friends\"]:\n",
    "                if f in people:\n",
    "                    accepted_friends.append(f)\n",
    "            #if len(accepted_friends) > 0:\n",
    "            out.write({'id': i['id'], 'friends': accepted_friends, \n",
    "                       'gender': i['gender'],\n",
    "                      'age': i['age'], 'status': i['status'],\n",
    "                      'education': i['education']})\n"
   ]
  },
  {
   "cell_type": "code",
   "execution_count": null,
   "metadata": {
    "collapsed": false
   },
   "outputs": [],
   "source": [
    "edu = set()\n",
    "stat = set()\n",
    "with jsonlines.open(\"sampled_vk_dataset_10000.jl\", mode=\"r\") as info:\n",
    "    for item in info:\n",
    "        edu.add(item['education'])\n",
    "        stat.add(item['status'])\n",
    "print(edu)\n",
    "print(stat)"
   ]
  },
  {
   "cell_type": "code",
   "execution_count": null,
   "metadata": {
    "collapsed": false
   },
   "outputs": [],
   "source": [
    "seed_friends = []\n",
    "with jsonlines.open(\"sampled_vk_dataset_10000.jl\", mode=\"r\") as ppl:\n",
    "    for item in ppl:\n",
    "        if item.get('id') in people:\n",
    "            seed_friends.append(item.get('friends'))"
   ]
  },
  {
   "cell_type": "code",
   "execution_count": null,
   "metadata": {
    "collapsed": false
   },
   "outputs": [],
   "source": [
    "x_gender = [[0, 0] for x in range(len(people))]\n",
    "x_status = [[0, 0] for x in range(len(people))]\n",
    "x_edu = [[0, 0, 0] for x in range(len(people))]\n",
    "x_age = [[0] * 110 for x in range(len(people))]\n",
    "bound = len(seed_friends)\n",
    "\n",
    "with jsonlines.open(\"sampled_vk_dataset_10000.jl\", mode=\"r\") as ppl:\n",
    "    for item in ppl:\n",
    "        for i in range(bound):\n",
    "            if item.get('id') in seed_friends[i]:\n",
    "                if item.get('gender') == 'male':\n",
    "                    x_gender[i][0] += 1\n",
    "                elif item.get('gender') == 'female':\n",
    "                    x_gender[i][1] += 1\n",
    "                if item.get('status') == 'single':\n",
    "                    x_status[i][0] += 1\n",
    "                elif item.get('status') == 'married':\n",
    "                    x_status[i][1] += 1\n",
    "                if item.get('education') == 'high':\n",
    "                    x_edu[i][0] += 1\n",
    "                elif item.get('education') == 'middle':\n",
    "                    x_edu[i][1] += 1\n",
    "                elif item.get('education') == 'none':\n",
    "                    x_edu[i][2] += 1\n",
    "                if item['age']:\n",
    "                    x_age[i][int(item['age'])] += 1"
   ]
  },
  {
   "cell_type": "code",
   "execution_count": null,
   "metadata": {
    "collapsed": false
   },
   "outputs": [],
   "source": [
    "x_gender[255]"
   ]
  },
  {
   "cell_type": "code",
   "execution_count": null,
   "metadata": {
    "collapsed": true
   },
   "outputs": [],
   "source": [
    "with jsonlines.open('sampled_vk_dataset_10000.jl', mode='r') as _people:\n",
    "    files = [0, 0, 0]\n",
    "    files[0] = jsonlines.open('sampled_vk_dataset_part1.jl', mode='w')\n",
    "    files[1] = jsonlines.open('sampled_vk_dataset_part2.jl', mode='w')\n",
    "    files[2] = jsonlines.open('sampled_vk_dataset_part3.jl', mode='w')\n",
    "    for i, man in enumerate(_people):\n",
    "        files[i % 3].write(man)\n",
    "    for file in files:\n",
    "        file.close()\n"
   ]
  },
  {
   "cell_type": "code",
   "execution_count": null,
   "metadata": {
    "collapsed": true
   },
   "outputs": [],
   "source": [
    "import random"
   ]
  },
  {
   "cell_type": "code",
   "execution_count": null,
   "metadata": {
    "collapsed": true
   },
   "outputs": [],
   "source": []
  }
 ],
 "metadata": {
  "kernelspec": {
   "display_name": "Python 3",
   "language": "python",
   "name": "python3"
  },
  "language_info": {
   "codemirror_mode": {
    "name": "ipython",
    "version": 3
   },
   "file_extension": ".py",
   "mimetype": "text/x-python",
   "name": "python",
   "nbconvert_exporter": "python",
   "pygments_lexer": "ipython3",
   "version": "3.6.0"
  }
 },
 "nbformat": 4,
 "nbformat_minor": 2
}
